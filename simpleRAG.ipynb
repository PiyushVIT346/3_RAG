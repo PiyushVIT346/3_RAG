{
 "cells": [
  {
   "cell_type": "code",
   "execution_count": 5,
   "metadata": {},
   "outputs": [
    {
     "name": "stdout",
     "output_type": "stream",
     "text": [
      "[Document(metadata={'source': 'speech.txt'}, page_content='Excellencies,\\n\\nOn behalf of India, the world’s largest democracy, and 1.4 billion Indians, Greetings to all of you. In the largest elections in human history held recently in June, the people of India have given me the opportunity to serve them, for a third consecutive term. And today I bring the voice of this one sixth of humanity to you. ,\\n\\nFriends,\\n\\nWhen we are discussing Global Future, we must accord the highest priority to a Human centric approach. While prioritizing sustainable development, we must also ensure human welfare, food and health security. By lifting 250 million people out of poverty in India, we have demonstrated that Sustainable Development can be Successful. And we are ready to share this experience of our success with the entire Global South. ,\\n\\nFriends,\\n\\nSuccess of Humanity lies in our collective strength, not in the battlefield. And for global peace and development, reforms in global institutions are essential. Reform is the key to relevance! Permanent membership of the G20 to the African Union at the New Delhi Summit, was an important step in this direction. While on the one hand, terrorism continues to be a serious threat to global peace and security, on the other hand, areas such as cyber, maritime and space, are emerging as new theaters of conflict. On all these issues, I will stress, that, Global Action must match Global Ambition!,\\n\\nFriends,\\n\\nThere is a need for balanced regulation for the safe and responsible use of Technology. We need global digital governance, which ensures that national sovereignty and integrity are upheld. Digital Public Infrastructure should be a Bridge, not a Barrier! For Global Good, India is ready to share its digital public infrastructure with the entire world.,\\n\\nFriends,\\n\\nFor India, “One Earth, One Family, One Future” is a commitment. This commitment is also reflected in our initiatives such as “One Earth, One Health”, and “One Sun, One World, One Grid”. India will continue to work in thought, words and deeds to protect the rights of all humanity and for global prosperity.')]\n"
     ]
    }
   ],
   "source": [
    "from langchain_community.document_loaders import TextLoader\n",
    "#load\n",
    "# Specify utf-8 encoding (or try other encodings if necessary)\n",
    "loader = TextLoader(\"speech.txt\", encoding=\"utf-8\")\n",
    "text_documents = loader.load()\n",
    "print(text_documents)\n"
   ]
  },
  {
   "cell_type": "code",
   "execution_count": 2,
   "metadata": {},
   "outputs": [
    {
     "name": "stdout",
     "output_type": "stream",
     "text": [
      "Requirement already satisfied: langchain_community in d:\\py\\lib\\site-packages (0.3.0)\n",
      "Requirement already satisfied: PyYAML>=5.3 in d:\\py\\lib\\site-packages (from langchain_community) (6.0.1)\n",
      "Requirement already satisfied: SQLAlchemy<3,>=1.4 in d:\\py\\lib\\site-packages (from langchain_community) (2.0.35)\n",
      "Requirement already satisfied: aiohttp<4.0.0,>=3.8.3 in d:\\py\\lib\\site-packages (from langchain_community) (3.9.5)\n",
      "Requirement already satisfied: dataclasses-json<0.7,>=0.5.7 in d:\\py\\lib\\site-packages (from langchain_community) (0.6.7)\n",
      "Requirement already satisfied: langchain<0.4.0,>=0.3.0 in d:\\py\\lib\\site-packages (from langchain_community) (0.3.0)\n",
      "Requirement already satisfied: langchain-core<0.4.0,>=0.3.0 in d:\\py\\lib\\site-packages (from langchain_community) (0.3.1)\n",
      "Requirement already satisfied: langsmith<0.2.0,>=0.1.112 in d:\\py\\lib\\site-packages (from langchain_community) (0.1.121)\n",
      "Requirement already satisfied: numpy<2,>=1 in d:\\py\\lib\\site-packages (from langchain_community) (1.26.4)\n",
      "Requirement already satisfied: pydantic-settings<3.0.0,>=2.4.0 in d:\\py\\lib\\site-packages (from langchain_community) (2.5.2)\n",
      "Requirement already satisfied: requests<3,>=2 in d:\\py\\lib\\site-packages (from langchain_community) (2.32.3)\n",
      "Requirement already satisfied: tenacity!=8.4.0,<9.0.0,>=8.1.0 in d:\\py\\lib\\site-packages (from langchain_community) (8.3.0)\n",
      "Requirement already satisfied: aiosignal>=1.1.2 in d:\\py\\lib\\site-packages (from aiohttp<4.0.0,>=3.8.3->langchain_community) (1.3.1)\n",
      "Requirement already satisfied: attrs>=17.3.0 in d:\\py\\lib\\site-packages (from aiohttp<4.0.0,>=3.8.3->langchain_community) (23.2.0)\n",
      "Requirement already satisfied: frozenlist>=1.1.1 in d:\\py\\lib\\site-packages (from aiohttp<4.0.0,>=3.8.3->langchain_community) (1.4.1)\n",
      "Requirement already satisfied: multidict<7.0,>=4.5 in d:\\py\\lib\\site-packages (from aiohttp<4.0.0,>=3.8.3->langchain_community) (6.0.5)\n",
      "Requirement already satisfied: yarl<2.0,>=1.0 in d:\\py\\lib\\site-packages (from aiohttp<4.0.0,>=3.8.3->langchain_community) (1.9.4)\n",
      "Requirement already satisfied: marshmallow<4.0.0,>=3.18.0 in d:\\py\\lib\\site-packages (from dataclasses-json<0.7,>=0.5.7->langchain_community) (3.22.0)\n",
      "Requirement already satisfied: typing-inspect<1,>=0.4.0 in d:\\py\\lib\\site-packages (from dataclasses-json<0.7,>=0.5.7->langchain_community) (0.9.0)\n",
      "Requirement already satisfied: langchain-text-splitters<0.4.0,>=0.3.0 in d:\\py\\lib\\site-packages (from langchain<0.4.0,>=0.3.0->langchain_community) (0.3.0)\n",
      "Requirement already satisfied: pydantic<3.0.0,>=2.7.4 in d:\\py\\lib\\site-packages (from langchain<0.4.0,>=0.3.0->langchain_community) (2.8.2)\n",
      "Requirement already satisfied: jsonpatch<2.0,>=1.33 in d:\\py\\lib\\site-packages (from langchain-core<0.4.0,>=0.3.0->langchain_community) (1.33)\n",
      "Requirement already satisfied: packaging<25,>=23.2 in d:\\py\\lib\\site-packages (from langchain-core<0.4.0,>=0.3.0->langchain_community) (24.0)\n",
      "Requirement already satisfied: typing-extensions>=4.7 in c:\\users\\hp\\appdata\\roaming\\python\\python311\\site-packages (from langchain-core<0.4.0,>=0.3.0->langchain_community) (4.12.1)\n",
      "Collecting httpx<1,>=0.23.0 (from langsmith<0.2.0,>=0.1.112->langchain_community)\n",
      "  Using cached httpx-0.27.2-py3-none-any.whl.metadata (7.1 kB)\n",
      "Requirement already satisfied: orjson<4.0.0,>=3.9.14 in d:\\py\\lib\\site-packages (from langsmith<0.2.0,>=0.1.112->langchain_community) (3.10.7)\n",
      "Requirement already satisfied: python-dotenv>=0.21.0 in d:\\py\\lib\\site-packages (from pydantic-settings<3.0.0,>=2.4.0->langchain_community) (1.0.1)\n",
      "Requirement already satisfied: charset-normalizer<4,>=2 in d:\\py\\lib\\site-packages (from requests<3,>=2->langchain_community) (3.3.2)\n",
      "Requirement already satisfied: idna<4,>=2.5 in d:\\py\\lib\\site-packages (from requests<3,>=2->langchain_community) (2.10)\n",
      "Requirement already satisfied: urllib3<3,>=1.21.1 in d:\\py\\lib\\site-packages (from requests<3,>=2->langchain_community) (2.2.2)\n",
      "Requirement already satisfied: certifi>=2017.4.17 in d:\\py\\lib\\site-packages (from requests<3,>=2->langchain_community) (2024.7.4)\n",
      "Requirement already satisfied: greenlet!=0.4.17 in d:\\py\\lib\\site-packages (from SQLAlchemy<3,>=1.4->langchain_community) (3.1.0)\n",
      "Requirement already satisfied: anyio in d:\\py\\lib\\site-packages (from httpx<1,>=0.23.0->langsmith<0.2.0,>=0.1.112->langchain_community) (4.4.0)\n",
      "Collecting httpcore==1.* (from httpx<1,>=0.23.0->langsmith<0.2.0,>=0.1.112->langchain_community)\n",
      "  Using cached httpcore-1.0.5-py3-none-any.whl.metadata (20 kB)\n",
      "Requirement already satisfied: sniffio in d:\\py\\lib\\site-packages (from httpx<1,>=0.23.0->langsmith<0.2.0,>=0.1.112->langchain_community) (1.3.1)\n",
      "Collecting h11<0.15,>=0.13 (from httpcore==1.*->httpx<1,>=0.23.0->langsmith<0.2.0,>=0.1.112->langchain_community)\n",
      "  Using cached h11-0.14.0-py3-none-any.whl.metadata (8.2 kB)\n",
      "Requirement already satisfied: jsonpointer>=1.9 in d:\\py\\lib\\site-packages (from jsonpatch<2.0,>=1.33->langchain-core<0.4.0,>=0.3.0->langchain_community) (3.0.0)\n",
      "Requirement already satisfied: annotated-types>=0.4.0 in d:\\py\\lib\\site-packages (from pydantic<3.0.0,>=2.7.4->langchain<0.4.0,>=0.3.0->langchain_community) (0.7.0)\n",
      "Requirement already satisfied: pydantic-core==2.20.1 in d:\\py\\lib\\site-packages (from pydantic<3.0.0,>=2.7.4->langchain<0.4.0,>=0.3.0->langchain_community) (2.20.1)\n",
      "Requirement already satisfied: mypy-extensions>=0.3.0 in d:\\py\\lib\\site-packages (from typing-inspect<1,>=0.4.0->dataclasses-json<0.7,>=0.5.7->langchain_community) (1.0.0)\n",
      "Using cached httpx-0.27.2-py3-none-any.whl (76 kB)\n",
      "Using cached httpcore-1.0.5-py3-none-any.whl (77 kB)\n",
      "Using cached h11-0.14.0-py3-none-any.whl (58 kB)\n",
      "Installing collected packages: h11, httpcore, httpx\n",
      "  Attempting uninstall: h11\n",
      "    Found existing installation: h11 0.9.0\n",
      "    Uninstalling h11-0.9.0:\n",
      "      Successfully uninstalled h11-0.9.0\n",
      "  Attempting uninstall: httpcore\n",
      "    Found existing installation: httpcore 0.9.1\n",
      "    Uninstalling httpcore-0.9.1:\n",
      "      Successfully uninstalled httpcore-0.9.1\n",
      "  Attempting uninstall: httpx\n",
      "    Found existing installation: httpx 0.13.3\n",
      "    Uninstalling httpx-0.13.3:\n",
      "      Successfully uninstalled httpx-0.13.3\n",
      "Successfully installed h11-0.14.0 httpcore-1.0.5 httpx-0.27.2\n"
     ]
    },
    {
     "name": "stderr",
     "output_type": "stream",
     "text": [
      "WARNING: Ignoring invalid distribution ~treamlit (d:\\py\\Lib\\site-packages)\n",
      "WARNING: Ignoring invalid distribution ~treamlit (d:\\py\\Lib\\site-packages)\n",
      "WARNING: Ignoring invalid distribution ~treamlit (d:\\py\\Lib\\site-packages)\n",
      "ERROR: pip's dependency resolver does not currently take into account all the packages that are installed. This behaviour is the source of the following dependency conflicts.\n",
      "googletrans 3.0.0 requires httpx==0.13.3, but you have httpx 0.27.2 which is incompatible.\n"
     ]
    }
   ],
   "source": [
    "!pip install langchain_community"
   ]
  },
  {
   "cell_type": "code",
   "execution_count": null,
   "metadata": {},
   "outputs": [],
   "source": [
    "import os\n",
    "from dotenv import load_dotenv\n",
    "load_dotenv()\n",
    "\n",
    "os.environ[\"OPENAI_API_KEY\"]=os.getenv(\"OPENAI_API_KEY\")"
   ]
  },
  {
   "cell_type": "code",
   "execution_count": 6,
   "metadata": {},
   "outputs": [
    {
     "name": "stderr",
     "output_type": "stream",
     "text": [
      "USER_AGENT environment variable not set, consider setting it to identify your requests.\n"
     ]
    },
    {
     "data": {
      "text/plain": [
       "[Document(metadata={'source': 'https://www.pmindia.gov.in/en/news_updates/pms-address-at-the-summit-of-the-future-united-nations/?tag_term=pmspeech&comment=disable', 'language': 'No language found.'}, page_content='\\nPM’s remarks at the United Nations ‘Summit of the Future’ \\n23 Sep, 2024\\n\\n\\n\\n\\n\\n\\n\\n\\n\\n\\n\\n\\n\\n\\nPM’s address at the ‘Summit of the Future’, United Nations\\n\\n\\nExcellencies,\\nOn behalf of India, the world’s largest democracy, and 1.4 billion Indians, Greetings to all of you. In the largest elections in human history held recently in June, the people of India have given me the opportunity to serve them, for a third consecutive term. And today I bring the voice of this one sixth of humanity to you. ,\\nFriends,\\nWhen we are discussing Global Future, we must accord the highest priority to a Human centric approach. While prioritizing sustainable development, we must also ensure human welfare, food and health security. By lifting 250 million people out of poverty in India, we have demonstrated that Sustainable Development can be Successful. And we are ready to share this experience of our success with the entire Global South. ,\\nFriends,\\nSuccess of Humanity lies in our collective strength, not in the battlefield. And for global peace and development, reforms in global institutions are essential. Reform is the key to relevance! Permanent membership of the G20 to the African Union at the New Delhi Summit, was an important step in this direction. While on the one hand, terrorism continues to be a serious threat to global peace and security, on the other hand, areas such as cyber, maritime and space, are emerging as new theaters of conflict. On all these issues, I will stress, that, Global Action must match Global Ambition!,\\nFriends,\\nThere is a need for balanced regulation for the safe and responsible use of Technology. We need global digital governance, which ensures that national sovereignty and integrity are upheld. Digital Public Infrastructure should be a Bridge, not a Barrier! For Global Good, India is ready to share its digital public infrastructure with the entire world.,\\nFriends,\\nFor India, “One Earth, One Family, One Future” is a commitment. This commitment is also reflected in our initiatives such as “One Earth, One Health”, and “One Sun, One World, One Grid”. India will continue to work in thought, words and deeds to protect the rights of all humanity and for global prosperity.\\nThank you very much.\\nSpeaking at Summit of the Future at the @UN. https://t.co/lxhOQEWEC8— Narendra Modi (@narendramodi) September 23, 2024 \\nभारत में 250 मिलियन लोगों को ग़रीबी से बाहर निकाल कर हमने यह दिखाया है कि, Sustainable development can be successful: PM @narendramodi pic.twitter.com/cH6ALoFVHn— PMO India (@PMOIndia) September 23, 2024 \\nSuccess of Humanity lies in our collective strength, not in the battlefield: PM @narendramodi pic.twitter.com/XnE6a64CAx— PMO India (@PMOIndia) September 23, 2024 \\nReform is the key to relevance: PM @narendramodi pic.twitter.com/J6TPoEo0IR— PMO India (@PMOIndia) September 23, 2024 \\nGlobal Action must match Global Ambition: PM @narendramodi pic.twitter.com/wyPhAtqFrg— PMO India (@PMOIndia) September 23, 2024 \\nहमें ऐसी ग्लोबल डिजिटल गवर्नेंस चाहिए, जिससे राष्ट्रीय संप्रभुता और अखंडता अक्षुण्ण रहे: PM @narendramodi pic.twitter.com/H8sA8HPg0b— PMO India (@PMOIndia) September 23, 2024 \\nDigital Public Infrastructure should be a bridge, not a barrier: PM @narendramodi pic.twitter.com/U6BB7dj8ms— PMO India (@PMOIndia) September 23, 2024 \\nभारत के लिए “One Earth, One Family, One Future” एक कमिटमेंट है: PM @narendramodi pic.twitter.com/TOHIb8ne7b— PMO India (@PMOIndia) September 23, 2024 \\n\\n')]"
      ]
     },
     "execution_count": 6,
     "metadata": {},
     "output_type": "execute_result"
    }
   ],
   "source": [
    "from langchain_community.document_loaders import WebBaseLoader\n",
    "import bs4\n",
    "#load\n",
    "loader=WebBaseLoader(web_paths=(\"https://www.pmindia.gov.in/en/news_updates/pms-address-at-the-summit-of-the-future-united-nations/?tag_term=pmspeech&comment=disable\",),\n",
    "                     bs_kwargs=dict(parse_only=bs4.SoupStrainer(\n",
    "                         class_=(\"news-bg\",\"content-block clearfix content-loaded\")\n",
    "                     )))\n",
    "text_documents2=loader.load()\n",
    "text_documents2"
   ]
  },
  {
   "cell_type": "code",
   "execution_count": 8,
   "metadata": {},
   "outputs": [
    {
     "data": {
      "text/plain": [
       "[Document(metadata={'source': 'https://www.pmindia.gov.in/en/news_updates/pms-address-at-the-summit-of-the-future-united-nations/?tag_term=pmspeech&comment=disable', 'language': 'No language found.'}, page_content='\\nPM’s remarks at the United Nations ‘Summit of the Future’ \\n23 Sep, 2024\\n\\n\\n\\n\\n\\n\\n\\n\\n\\n\\n\\n\\n\\n\\nPM’s address at the ‘Summit of the Future’, United Nations\\n\\n\\nExcellencies,\\nOn behalf of India, the world’s largest democracy, and 1.4 billion Indians, Greetings to all of you. In the largest elections in human history held recently in June, the people of India have given me the opportunity to serve them, for a third consecutive term. And today I bring the voice of this one sixth of humanity to you. ,\\nFriends,\\nWhen we are discussing Global Future, we must accord the highest priority to a Human centric approach. While prioritizing sustainable development, we must also ensure human welfare, food and health security. By lifting 250 million people out of poverty in India, we have demonstrated that Sustainable Development can be Successful. And we are ready to share this experience of our success with the entire Global South. ,\\nFriends,\\nSuccess of Humanity lies in our collective strength, not in the battlefield. And for global peace and development, reforms in global institutions are essential. Reform is the key to relevance! Permanent membership of the G20 to the African Union at the New Delhi Summit, was an important step in this direction. While on the one hand, terrorism continues to be a serious threat to global peace and security, on the other hand, areas such as cyber, maritime and space, are emerging as new theaters of conflict. On all these issues, I will stress, that, Global Action must match Global Ambition!,\\nFriends,\\nThere is a need for balanced regulation for the safe and responsible use of Technology. We need global digital governance, which ensures that national sovereignty and integrity are upheld. Digital Public Infrastructure should be a Bridge, not a Barrier! For Global Good, India is ready to share its digital public infrastructure with the entire world.,\\nFriends,\\nFor India, “One Earth, One Family, One Future” is a commitment. This commitment is also reflected in our initiatives such as “One Earth, One Health”, and “One Sun, One World, One Grid”. India will continue to work in thought, words and deeds to protect the rights of all humanity and for global prosperity.\\nThank you very much.\\nSpeaking at Summit of the Future at the @UN. https://t.co/lxhOQEWEC8— Narendra Modi (@narendramodi) September 23, 2024 \\nभारत में 250 मिलियन लोगों को ग़रीबी से बाहर निकाल कर हमने यह दिखाया है कि, Sustainable development can be successful: PM @narendramodi pic.twitter.com/cH6ALoFVHn— PMO India (@PMOIndia) September 23, 2024 \\nSuccess of Humanity lies in our collective strength, not in the battlefield: PM @narendramodi pic.twitter.com/XnE6a64CAx— PMO India (@PMOIndia) September 23, 2024 \\nReform is the key to relevance: PM @narendramodi pic.twitter.com/J6TPoEo0IR— PMO India (@PMOIndia) September 23, 2024 \\nGlobal Action must match Global Ambition: PM @narendramodi pic.twitter.com/wyPhAtqFrg— PMO India (@PMOIndia) September 23, 2024 \\nहमें ऐसी ग्लोबल डिजिटल गवर्नेंस चाहिए, जिससे राष्ट्रीय संप्रभुता और अखंडता अक्षुण्ण रहे: PM @narendramodi pic.twitter.com/H8sA8HPg0b— PMO India (@PMOIndia) September 23, 2024 \\nDigital Public Infrastructure should be a bridge, not a barrier: PM @narendramodi pic.twitter.com/U6BB7dj8ms— PMO India (@PMOIndia) September 23, 2024 \\nभारत के लिए “One Earth, One Family, One Future” एक कमिटमेंट है: PM @narendramodi pic.twitter.com/TOHIb8ne7b— PMO India (@PMOIndia) September 23, 2024 \\n\\n')]"
      ]
     },
     "execution_count": 8,
     "metadata": {},
     "output_type": "execute_result"
    }
   ],
   "source": [
    "#laod\n",
    "from langchain_community.document_loaders import PyPDFLoader\n",
    "laoder=PyPDFLoader(\"Hello.pdf\")\n",
    "docs=loader.load()\n",
    "docs"
   ]
  },
  {
   "cell_type": "code",
   "execution_count": 12,
   "metadata": {},
   "outputs": [
    {
     "data": {
      "text/plain": [
       "[Document(metadata={'source': 'https://www.pmindia.gov.in/en/news_updates/pms-address-at-the-summit-of-the-future-united-nations/?tag_term=pmspeech&comment=disable', 'language': 'No language found.'}, page_content='PM’s remarks at the United Nations ‘Summit of the Future’ \\n23 Sep, 2024\\n\\n\\n\\n\\n\\n\\n\\n\\n\\n\\n\\n\\n\\n\\nPM’s address at the ‘Summit of the Future’, United Nations'),\n",
       " Document(metadata={'source': 'https://www.pmindia.gov.in/en/news_updates/pms-address-at-the-summit-of-the-future-united-nations/?tag_term=pmspeech&comment=disable', 'language': 'No language found.'}, page_content='Excellencies,\\nOn behalf of India, the world’s largest democracy, and 1.4 billion Indians, Greetings to all of you. In the largest elections in human history held recently in June, the people of India have given me the opportunity to serve them, for a third consecutive term. And today I bring the voice of this one sixth of humanity to you. ,\\nFriends,\\nWhen we are discussing Global Future, we must accord the highest priority to a Human centric approach. While prioritizing sustainable development, we must also ensure human welfare, food and health security. By lifting 250 million people out of poverty in India, we have demonstrated that Sustainable Development can be Successful. And we are ready to share this experience of our success with the entire Global South. ,\\nFriends,'),\n",
       " Document(metadata={'source': 'https://www.pmindia.gov.in/en/news_updates/pms-address-at-the-summit-of-the-future-united-nations/?tag_term=pmspeech&comment=disable', 'language': 'No language found.'}, page_content='Friends,\\nSuccess of Humanity lies in our collective strength, not in the battlefield. And for global peace and development, reforms in global institutions are essential. Reform is the key to relevance! Permanent membership of the G20 to the African Union at the New Delhi Summit, was an important step in this direction. While on the one hand, terrorism continues to be a serious threat to global peace and security, on the other hand, areas such as cyber, maritime and space, are emerging as new theaters of conflict. On all these issues, I will stress, that, Global Action must match Global Ambition!,\\nFriends,\\nThere is a need for balanced regulation for the safe and responsible use of Technology. We need global digital governance, which ensures that national sovereignty and integrity are upheld. Digital Public Infrastructure should be a Bridge, not a Barrier! For Global Good, India is ready to share its digital public infrastructure with the entire world.,\\nFriends,'),\n",
       " Document(metadata={'source': 'https://www.pmindia.gov.in/en/news_updates/pms-address-at-the-summit-of-the-future-united-nations/?tag_term=pmspeech&comment=disable', 'language': 'No language found.'}, page_content='Friends,\\nFor India, “One Earth, One Family, One Future” is a commitment. This commitment is also reflected in our initiatives such as “One Earth, One Health”, and “One Sun, One World, One Grid”. India will continue to work in thought, words and deeds to protect the rights of all humanity and for global prosperity.\\nThank you very much.\\nSpeaking at Summit of the Future at the @UN. https://t.co/lxhOQEWEC8— Narendra Modi (@narendramodi) September 23, 2024 \\nभारत में 250 मिलियन लोगों को ग़रीबी से बाहर निकाल कर हमने यह दिखाया है कि, Sustainable development can be successful: PM @narendramodi pic.twitter.com/cH6ALoFVHn— PMO India (@PMOIndia) September 23, 2024 \\nSuccess of Humanity lies in our collective strength, not in the battlefield: PM @narendramodi pic.twitter.com/XnE6a64CAx— PMO India (@PMOIndia) September 23, 2024 \\nReform is the key to relevance: PM @narendramodi pic.twitter.com/J6TPoEo0IR— PMO India (@PMOIndia) September 23, 2024'),\n",
       " Document(metadata={'source': 'https://www.pmindia.gov.in/en/news_updates/pms-address-at-the-summit-of-the-future-united-nations/?tag_term=pmspeech&comment=disable', 'language': 'No language found.'}, page_content='Reform is the key to relevance: PM @narendramodi pic.twitter.com/J6TPoEo0IR— PMO India (@PMOIndia) September 23, 2024 \\nGlobal Action must match Global Ambition: PM @narendramodi pic.twitter.com/wyPhAtqFrg— PMO India (@PMOIndia) September 23, 2024 \\nहमें ऐसी ग्लोबल डिजिटल गवर्नेंस चाहिए, जिससे राष्ट्रीय संप्रभुता और अखंडता अक्षुण्ण रहे: PM @narendramodi pic.twitter.com/H8sA8HPg0b— PMO India (@PMOIndia) September 23, 2024 \\nDigital Public Infrastructure should be a bridge, not a barrier: PM @narendramodi pic.twitter.com/U6BB7dj8ms— PMO India (@PMOIndia) September 23, 2024 \\nभारत के लिए “One Earth, One Family, One Future” एक कमिटमेंट है: PM @narendramodi pic.twitter.com/TOHIb8ne7b— PMO India (@PMOIndia) September 23, 2024')]"
      ]
     },
     "execution_count": 12,
     "metadata": {},
     "output_type": "execute_result"
    }
   ],
   "source": [
    "#load\n",
    "from langchain.text_splitter import RecursiveCharacterTextSplitter\n",
    "text_splitter=RecursiveCharacterTextSplitter(chunk_size=1000)\n",
    "documents=text_splitter.split_documents(docs)\n",
    "documents[:5]"
   ]
  },
  {
   "cell_type": "code",
   "execution_count": 13,
   "metadata": {},
   "outputs": [
    {
     "name": "stderr",
     "output_type": "stream",
     "text": [
      "C:\\Users\\HP\\AppData\\Local\\Temp\\ipykernel_9944\\1558410457.py:4: LangChainDeprecationWarning: The class `OpenAIEmbeddings` was deprecated in LangChain 0.0.9 and will be removed in 1.0. An updated version of the class exists in the langchain-openai package and should be used instead. To use it run `pip install -U langchain-openai` and import as `from langchain_openai import OpenAIEmbeddings`.\n",
      "  db=Chroma.from_documents(documents[:20],OpenAIEmbeddings())\n"
     ]
    },
    {
     "ename": "ValidationError",
     "evalue": "1 validation error for OpenAIEmbeddings\n  Value error, Did not find openai_api_key, please add an environment variable `OPENAI_API_KEY` which contains it, or pass `openai_api_key` as a named parameter. [type=value_error, input_value={'model_kwargs': {}, 'cli...20, 'http_client': None}, input_type=dict]\n    For further information visit https://errors.pydantic.dev/2.8/v/value_error",
     "output_type": "error",
     "traceback": [
      "\u001b[1;31m---------------------------------------------------------------------------\u001b[0m",
      "\u001b[1;31mValidationError\u001b[0m                           Traceback (most recent call last)",
      "Cell \u001b[1;32mIn[13], line 4\u001b[0m\n\u001b[0;32m      2\u001b[0m \u001b[38;5;28;01mfrom\u001b[39;00m \u001b[38;5;21;01mlangchain_community\u001b[39;00m\u001b[38;5;21;01m.\u001b[39;00m\u001b[38;5;21;01membeddings\u001b[39;00m \u001b[38;5;28;01mimport\u001b[39;00m OpenAIEmbeddings\n\u001b[0;32m      3\u001b[0m \u001b[38;5;28;01mfrom\u001b[39;00m \u001b[38;5;21;01mlangchain_community\u001b[39;00m\u001b[38;5;21;01m.\u001b[39;00m\u001b[38;5;21;01mvectorstores\u001b[39;00m \u001b[38;5;28;01mimport\u001b[39;00m Chroma\n\u001b[1;32m----> 4\u001b[0m db\u001b[38;5;241m=\u001b[39mChroma\u001b[38;5;241m.\u001b[39mfrom_documents(documents[:\u001b[38;5;241m20\u001b[39m],\u001b[43mOpenAIEmbeddings\u001b[49m\u001b[43m(\u001b[49m\u001b[43m)\u001b[49m)\n",
      "File \u001b[1;32md:\\py\\Lib\\site-packages\\langchain_core\\_api\\deprecation.py:215\u001b[0m, in \u001b[0;36mdeprecated.<locals>.deprecate.<locals>.finalize.<locals>.warn_if_direct_instance\u001b[1;34m(self, *args, **kwargs)\u001b[0m\n\u001b[0;32m    213\u001b[0m     warned \u001b[38;5;241m=\u001b[39m \u001b[38;5;28;01mTrue\u001b[39;00m\n\u001b[0;32m    214\u001b[0m     emit_warning()\n\u001b[1;32m--> 215\u001b[0m \u001b[38;5;28;01mreturn\u001b[39;00m \u001b[43mwrapped\u001b[49m\u001b[43m(\u001b[49m\u001b[38;5;28;43mself\u001b[39;49m\u001b[43m,\u001b[49m\u001b[43m \u001b[49m\u001b[38;5;241;43m*\u001b[39;49m\u001b[43margs\u001b[49m\u001b[43m,\u001b[49m\u001b[43m \u001b[49m\u001b[38;5;241;43m*\u001b[39;49m\u001b[38;5;241;43m*\u001b[39;49m\u001b[43mkwargs\u001b[49m\u001b[43m)\u001b[49m\n",
      "File \u001b[1;32md:\\py\\Lib\\site-packages\\pydantic\\main.py:193\u001b[0m, in \u001b[0;36mBaseModel.__init__\u001b[1;34m(self, **data)\u001b[0m\n\u001b[0;32m    191\u001b[0m \u001b[38;5;66;03m# `__tracebackhide__` tells pytest and some other tools to omit this function from tracebacks\u001b[39;00m\n\u001b[0;32m    192\u001b[0m __tracebackhide__ \u001b[38;5;241m=\u001b[39m \u001b[38;5;28;01mTrue\u001b[39;00m\n\u001b[1;32m--> 193\u001b[0m \u001b[38;5;28;43mself\u001b[39;49m\u001b[38;5;241;43m.\u001b[39;49m\u001b[43m__pydantic_validator__\u001b[49m\u001b[38;5;241;43m.\u001b[39;49m\u001b[43mvalidate_python\u001b[49m\u001b[43m(\u001b[49m\u001b[43mdata\u001b[49m\u001b[43m,\u001b[49m\u001b[43m \u001b[49m\u001b[43mself_instance\u001b[49m\u001b[38;5;241;43m=\u001b[39;49m\u001b[38;5;28;43mself\u001b[39;49m\u001b[43m)\u001b[49m\n",
      "\u001b[1;31mValidationError\u001b[0m: 1 validation error for OpenAIEmbeddings\n  Value error, Did not find openai_api_key, please add an environment variable `OPENAI_API_KEY` which contains it, or pass `openai_api_key` as a named parameter. [type=value_error, input_value={'model_kwargs': {}, 'cli...20, 'http_client': None}, input_type=dict]\n    For further information visit https://errors.pydantic.dev/2.8/v/value_error"
     ]
    }
   ],
   "source": [
    "#vector embedding and vector store\n",
    "from langchain_community.embeddings import OpenAIEmbeddings\n",
    "from langchain_community.vectorstores import Chroma\n",
    "db=Chroma.from_documents(documents[:20],OpenAIEmbeddings())"
   ]
  },
  {
   "cell_type": "code",
   "execution_count": null,
   "metadata": {},
   "outputs": [],
   "source": [
    "#Vector database\n",
    "query=\"Who are the aurthor of attention is all you need research paper\"\n",
    "result=db.similarity_search(query)\n",
    "rseult[0].page_content"
   ]
  },
  {
   "cell_type": "code",
   "execution_count": null,
   "metadata": {},
   "outputs": [],
   "source": [
    "from langchain_community.embeddings import OpenAIEmbeddings\n",
    "from lngchain_community.embeddings import OllamaEmbeddings\n",
    "from  lngchain_community.embeddings import FAISS\n",
    "\n",
    "db=FAISS.from_documents(documents[:20],OpenAIEmbeddings())"
   ]
  },
  {
   "cell_type": "code",
   "execution_count": null,
   "metadata": {},
   "outputs": [],
   "source": [
    "db"
   ]
  },
  {
   "cell_type": "code",
   "execution_count": null,
   "metadata": {},
   "outputs": [],
   "source": [
    "query=\"An attention function can be described as mapping a query\"\n",
    "result=db.similarity_search(query)\n",
    "result[0].page_content"
   ]
  },
  {
   "cell_type": "code",
   "execution_count": null,
   "metadata": {},
   "outputs": [],
   "source": [
    "from langchain_community import Ollama\n",
    "llm=Ollama(model=\"llama2\")\n",
    "llm"
   ]
  },
  {
   "cell_type": "code",
   "execution_count": null,
   "metadata": {},
   "outputs": [],
   "source": [
    "#designchatPrompt Template\n",
    "from langchain_core.prompts import ChatPromptTemplate\n",
    "prompt=ChatPromptTemplate.from_template(\"\"\"\n",
    "Answer the following question based  on the provided context.\n",
    "Think step by step before providing a detiled answer.\n",
    "I will tip you $1000 if the user finds the answer helpful.\n",
    "<context>\n",
    "{context}\n",
    "</context>\n",
    "Question: {input}\n",
    "\"\"\"\n",
    ")"
   ]
  },
  {
   "cell_type": "code",
   "execution_count": null,
   "metadata": {},
   "outputs": [],
   "source": [
    "#chain\n",
    "from langchain.chains.combine_documents import create_stuff_documents_chain\n",
    "document_chain=create_stuff_documents_chain(llm,prompt)"
   ]
  },
  {
   "cell_type": "code",
   "execution_count": null,
   "metadata": {},
   "outputs": [],
   "source": [
    "#retrivers\n",
    "retriever=db.as_retriever()\n",
    "retriever"
   ]
  },
  {
   "cell_type": "code",
   "execution_count": null,
   "metadata": {},
   "outputs": [],
   "source": [
    "#retrieveal chain\n",
    "from langchain.chains import create_retrieval_chain\n",
    "retriever_chain=create_retrieval_chain(retriever,document_chain)"
   ]
  },
  {
   "cell_type": "code",
   "execution_count": null,
   "metadata": {},
   "outputs": [],
   "source": [
    "response = retriever_chain.invoke({\"inputs\":\"What is machine learning\"})\n",
    "response('answer')"
   ]
  },
  {
   "cell_type": "code",
   "execution_count": null,
   "metadata": {},
   "outputs": [],
   "source": []
  },
  {
   "cell_type": "code",
   "execution_count": null,
   "metadata": {},
   "outputs": [],
   "source": []
  }
 ],
 "metadata": {
  "kernelspec": {
   "display_name": "Python 3",
   "language": "python",
   "name": "python3"
  },
  "language_info": {
   "codemirror_mode": {
    "name": "ipython",
    "version": 3
   },
   "file_extension": ".py",
   "mimetype": "text/x-python",
   "name": "python",
   "nbconvert_exporter": "python",
   "pygments_lexer": "ipython3",
   "version": "3.11.7"
  }
 },
 "nbformat": 4,
 "nbformat_minor": 2
}
